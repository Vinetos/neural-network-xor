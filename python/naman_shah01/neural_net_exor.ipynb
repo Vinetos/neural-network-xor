{
  "nbformat": 4,
  "nbformat_minor": 0,
  "metadata": {
    "colab": {
      "name": "neural-net-exor.ipynb",
      "provenance": [],
      "collapsed_sections": [],
      "toc_visible": true
    },
    "kernelspec": {
      "name": "python3",
      "display_name": "Python 3"
    }
  },
  "cells": [
    {
      "cell_type": "code",
      "metadata": {
        "id": "o1AmA26g58ml"
      },
      "source": [
        "import numpy as np\n",
        "import tensorflow as tf\n",
        "import matplotlib.pyplot as plt\n",
        "from sklearn.metrics import classification_report, confusion_matrix, accuracy_score"
      ],
      "execution_count": 1,
      "outputs": []
    },
    {
      "cell_type": "code",
      "metadata": {
        "id": "g6W_Wo--6H5t"
      },
      "source": [
        "# creating dataset\n",
        "x = np.array([[0, 0], [0, 1], [1, 0], [1, 1]])\n",
        "y = np.array([0, 1, 1, 0])"
      ],
      "execution_count": 2,
      "outputs": []
    },
    {
      "cell_type": "code",
      "metadata": {
        "id": "F-HemZCiGJBX"
      },
      "source": [
        "# callback to stop training when validation accuracy is 100%\n",
        "class myCallback(tf.keras.callbacks.Callback):\n",
        "    def on_epoch_end(self, epoch, logs={}):\n",
        "        try:\n",
        "            if logs.get('val_accuracy') == 1.0:\n",
        "                print(\"\\nReached 100% accuracy, stopping training\")\n",
        "                self.model.stop_training = True\n",
        "        except:\n",
        "            pass\n",
        "        return\n",
        "\n",
        "callbacks = myCallback()"
      ],
      "execution_count": 3,
      "outputs": []
    },
    {
      "cell_type": "code",
      "metadata": {
        "id": "psNZyeJj7gVY",
        "outputId": "aac017b6-810c-403b-b638-309ecd747398",
        "colab": {
          "base_uri": "https://localhost:8080/",
          "height": 255
        }
      },
      "source": [
        "# creating tensorflow model\n",
        "model = tf.keras.models.Sequential([\n",
        "        # input layer\n",
        "        tf.keras.layers.Dense(2, input_shape = (2,), activation='relu'),\n",
        "        # hidden layer\n",
        "        tf.keras.layers.Dense(4, activation='relu'),\n",
        "        # output neuron\n",
        "        tf.keras.layers.Dense(1, activation='sigmoid'),\n",
        "])\n",
        "\n",
        "model.summary()"
      ],
      "execution_count": 10,
      "outputs": [
        {
          "output_type": "stream",
          "text": [
            "Model: \"sequential_1\"\n",
            "_________________________________________________________________\n",
            "Layer (type)                 Output Shape              Param #   \n",
            "=================================================================\n",
            "dense_3 (Dense)              (None, 2)                 6         \n",
            "_________________________________________________________________\n",
            "dense_4 (Dense)              (None, 4)                 12        \n",
            "_________________________________________________________________\n",
            "dense_5 (Dense)              (None, 1)                 5         \n",
            "=================================================================\n",
            "Total params: 23\n",
            "Trainable params: 23\n",
            "Non-trainable params: 0\n",
            "_________________________________________________________________\n"
          ],
          "name": "stdout"
        }
      ]
    },
    {
      "cell_type": "code",
      "metadata": {
        "id": "i7dkXU8V9L8u"
      },
      "source": [
        "model.compile(\n",
        "    optimizer = 'rmsprop',\n",
        "    loss = 'binary_crossentropy',\n",
        "    metrics = ['accuracy']\n",
        ")"
      ],
      "execution_count": 11,
      "outputs": []
    },
    {
      "cell_type": "code",
      "metadata": {
        "id": "3BIWjbjKDr7p",
        "outputId": "96f3feb8-db03-484e-9539-620e6841f5f3",
        "colab": {
          "base_uri": "https://localhost:8080/",
          "height": 1000
        }
      },
      "source": [
        "# training the model\n",
        "tf.random.set_seed(17)\n",
        "history = model.fit(\n",
        "        x, y,\n",
        "        epochs = 150,\n",
        "        validation_data = (x, y),\n",
        "        callbacks = [callbacks]\n",
        "        )"
      ],
      "execution_count": 12,
      "outputs": [
        {
          "output_type": "stream",
          "text": [
            "Epoch 1/150\n",
            "1/1 [==============================] - 0s 125ms/step - loss: 0.6974 - accuracy: 0.5000 - val_loss: 0.6965 - val_accuracy: 0.5000\n",
            "Epoch 2/150\n",
            "1/1 [==============================] - 0s 20ms/step - loss: 0.6965 - accuracy: 0.5000 - val_loss: 0.6960 - val_accuracy: 0.5000\n",
            "Epoch 3/150\n",
            "1/1 [==============================] - 0s 19ms/step - loss: 0.6960 - accuracy: 0.5000 - val_loss: 0.6957 - val_accuracy: 0.5000\n",
            "Epoch 4/150\n",
            "1/1 [==============================] - 0s 19ms/step - loss: 0.6957 - accuracy: 0.5000 - val_loss: 0.6954 - val_accuracy: 0.5000\n",
            "Epoch 5/150\n",
            "1/1 [==============================] - 0s 19ms/step - loss: 0.6954 - accuracy: 0.5000 - val_loss: 0.6951 - val_accuracy: 0.5000\n",
            "Epoch 6/150\n",
            "1/1 [==============================] - 0s 20ms/step - loss: 0.6951 - accuracy: 0.5000 - val_loss: 0.6949 - val_accuracy: 0.5000\n",
            "Epoch 7/150\n",
            "1/1 [==============================] - 0s 20ms/step - loss: 0.6949 - accuracy: 0.5000 - val_loss: 0.6947 - val_accuracy: 0.5000\n",
            "Epoch 8/150\n",
            "1/1 [==============================] - 0s 20ms/step - loss: 0.6947 - accuracy: 0.5000 - val_loss: 0.6945 - val_accuracy: 0.5000\n",
            "Epoch 9/150\n",
            "1/1 [==============================] - 0s 22ms/step - loss: 0.6945 - accuracy: 0.5000 - val_loss: 0.6943 - val_accuracy: 0.5000\n",
            "Epoch 10/150\n",
            "1/1 [==============================] - 0s 20ms/step - loss: 0.6943 - accuracy: 0.5000 - val_loss: 0.6942 - val_accuracy: 0.5000\n",
            "Epoch 11/150\n",
            "1/1 [==============================] - 0s 20ms/step - loss: 0.6942 - accuracy: 0.5000 - val_loss: 0.6940 - val_accuracy: 0.5000\n",
            "Epoch 12/150\n",
            "1/1 [==============================] - 0s 19ms/step - loss: 0.6940 - accuracy: 0.5000 - val_loss: 0.6938 - val_accuracy: 0.5000\n",
            "Epoch 13/150\n",
            "1/1 [==============================] - 0s 23ms/step - loss: 0.6938 - accuracy: 0.5000 - val_loss: 0.6937 - val_accuracy: 0.5000\n",
            "Epoch 14/150\n",
            "1/1 [==============================] - 0s 19ms/step - loss: 0.6937 - accuracy: 0.5000 - val_loss: 0.6935 - val_accuracy: 0.5000\n",
            "Epoch 15/150\n",
            "1/1 [==============================] - 0s 21ms/step - loss: 0.6935 - accuracy: 0.5000 - val_loss: 0.6934 - val_accuracy: 0.5000\n",
            "Epoch 16/150\n",
            "1/1 [==============================] - 0s 20ms/step - loss: 0.6934 - accuracy: 0.5000 - val_loss: 0.6933 - val_accuracy: 0.5000\n",
            "Epoch 17/150\n",
            "1/1 [==============================] - 0s 20ms/step - loss: 0.6933 - accuracy: 0.5000 - val_loss: 0.6931 - val_accuracy: 0.5000\n",
            "Epoch 18/150\n",
            "1/1 [==============================] - 0s 20ms/step - loss: 0.6931 - accuracy: 0.5000 - val_loss: 0.6930 - val_accuracy: 0.5000\n",
            "Epoch 19/150\n",
            "1/1 [==============================] - 0s 20ms/step - loss: 0.6930 - accuracy: 0.5000 - val_loss: 0.6929 - val_accuracy: 0.5000\n",
            "Epoch 20/150\n",
            "1/1 [==============================] - 0s 19ms/step - loss: 0.6929 - accuracy: 0.5000 - val_loss: 0.6928 - val_accuracy: 0.5000\n",
            "Epoch 21/150\n",
            "1/1 [==============================] - 0s 18ms/step - loss: 0.6928 - accuracy: 0.5000 - val_loss: 0.6926 - val_accuracy: 0.5000\n",
            "Epoch 22/150\n",
            "1/1 [==============================] - 0s 19ms/step - loss: 0.6926 - accuracy: 0.5000 - val_loss: 0.6925 - val_accuracy: 0.5000\n",
            "Epoch 23/150\n",
            "1/1 [==============================] - 0s 18ms/step - loss: 0.6925 - accuracy: 0.5000 - val_loss: 0.6924 - val_accuracy: 0.5000\n",
            "Epoch 24/150\n",
            "1/1 [==============================] - 0s 20ms/step - loss: 0.6924 - accuracy: 0.5000 - val_loss: 0.6923 - val_accuracy: 0.5000\n",
            "Epoch 25/150\n",
            "1/1 [==============================] - 0s 21ms/step - loss: 0.6923 - accuracy: 0.5000 - val_loss: 0.6921 - val_accuracy: 0.5000\n",
            "Epoch 26/150\n",
            "1/1 [==============================] - 0s 20ms/step - loss: 0.6921 - accuracy: 0.5000 - val_loss: 0.6921 - val_accuracy: 0.5000\n",
            "Epoch 27/150\n",
            "1/1 [==============================] - 0s 21ms/step - loss: 0.6921 - accuracy: 0.5000 - val_loss: 0.6919 - val_accuracy: 0.5000\n",
            "Epoch 28/150\n",
            "1/1 [==============================] - 0s 18ms/step - loss: 0.6919 - accuracy: 0.5000 - val_loss: 0.6918 - val_accuracy: 0.5000\n",
            "Epoch 29/150\n",
            "1/1 [==============================] - 0s 22ms/step - loss: 0.6918 - accuracy: 0.5000 - val_loss: 0.6917 - val_accuracy: 0.5000\n",
            "Epoch 30/150\n",
            "1/1 [==============================] - 0s 19ms/step - loss: 0.6917 - accuracy: 0.5000 - val_loss: 0.6916 - val_accuracy: 0.5000\n",
            "Epoch 31/150\n",
            "1/1 [==============================] - 0s 20ms/step - loss: 0.6916 - accuracy: 0.5000 - val_loss: 0.6915 - val_accuracy: 0.5000\n",
            "Epoch 32/150\n",
            "1/1 [==============================] - 0s 19ms/step - loss: 0.6915 - accuracy: 0.5000 - val_loss: 0.6914 - val_accuracy: 0.5000\n",
            "Epoch 33/150\n",
            "1/1 [==============================] - 0s 19ms/step - loss: 0.6914 - accuracy: 0.5000 - val_loss: 0.6913 - val_accuracy: 0.5000\n",
            "Epoch 34/150\n",
            "1/1 [==============================] - 0s 19ms/step - loss: 0.6913 - accuracy: 0.5000 - val_loss: 0.6912 - val_accuracy: 0.5000\n",
            "Epoch 35/150\n",
            "1/1 [==============================] - 0s 22ms/step - loss: 0.6912 - accuracy: 0.5000 - val_loss: 0.6911 - val_accuracy: 0.5000\n",
            "Epoch 36/150\n",
            "1/1 [==============================] - 0s 19ms/step - loss: 0.6911 - accuracy: 0.5000 - val_loss: 0.6909 - val_accuracy: 0.5000\n",
            "Epoch 37/150\n",
            "1/1 [==============================] - 0s 20ms/step - loss: 0.6909 - accuracy: 0.5000 - val_loss: 0.6908 - val_accuracy: 0.5000\n",
            "Epoch 38/150\n",
            "1/1 [==============================] - 0s 19ms/step - loss: 0.6908 - accuracy: 0.5000 - val_loss: 0.6907 - val_accuracy: 0.5000\n",
            "Epoch 39/150\n",
            "1/1 [==============================] - 0s 18ms/step - loss: 0.6907 - accuracy: 0.5000 - val_loss: 0.6906 - val_accuracy: 0.5000\n",
            "Epoch 40/150\n",
            "1/1 [==============================] - 0s 20ms/step - loss: 0.6906 - accuracy: 0.5000 - val_loss: 0.6905 - val_accuracy: 0.5000\n",
            "Epoch 41/150\n",
            "1/1 [==============================] - 0s 20ms/step - loss: 0.6905 - accuracy: 0.5000 - val_loss: 0.6904 - val_accuracy: 0.5000\n",
            "Epoch 42/150\n",
            "1/1 [==============================] - 0s 19ms/step - loss: 0.6904 - accuracy: 0.5000 - val_loss: 0.6903 - val_accuracy: 0.5000\n",
            "Epoch 43/150\n",
            "1/1 [==============================] - 0s 18ms/step - loss: 0.6903 - accuracy: 0.5000 - val_loss: 0.6901 - val_accuracy: 0.5000\n",
            "Epoch 44/150\n",
            "1/1 [==============================] - 0s 21ms/step - loss: 0.6901 - accuracy: 0.5000 - val_loss: 0.6900 - val_accuracy: 0.5000\n",
            "Epoch 45/150\n",
            "1/1 [==============================] - 0s 19ms/step - loss: 0.6900 - accuracy: 0.5000 - val_loss: 0.6898 - val_accuracy: 0.5000\n",
            "Epoch 46/150\n",
            "1/1 [==============================] - 0s 21ms/step - loss: 0.6898 - accuracy: 0.5000 - val_loss: 0.6897 - val_accuracy: 0.5000\n",
            "Epoch 47/150\n",
            "1/1 [==============================] - 0s 17ms/step - loss: 0.6897 - accuracy: 0.5000 - val_loss: 0.6896 - val_accuracy: 0.5000\n",
            "Epoch 48/150\n",
            "1/1 [==============================] - 0s 18ms/step - loss: 0.6896 - accuracy: 0.5000 - val_loss: 0.6894 - val_accuracy: 0.5000\n",
            "Epoch 49/150\n",
            "1/1 [==============================] - 0s 19ms/step - loss: 0.6894 - accuracy: 0.5000 - val_loss: 0.6893 - val_accuracy: 0.5000\n",
            "Epoch 50/150\n",
            "1/1 [==============================] - 0s 18ms/step - loss: 0.6893 - accuracy: 0.5000 - val_loss: 0.6891 - val_accuracy: 0.5000\n",
            "Epoch 51/150\n",
            "1/1 [==============================] - 0s 21ms/step - loss: 0.6891 - accuracy: 0.5000 - val_loss: 0.6889 - val_accuracy: 0.5000\n",
            "Epoch 52/150\n",
            "1/1 [==============================] - 0s 22ms/step - loss: 0.6889 - accuracy: 0.5000 - val_loss: 0.6888 - val_accuracy: 0.5000\n",
            "Epoch 53/150\n",
            "1/1 [==============================] - 0s 19ms/step - loss: 0.6888 - accuracy: 0.5000 - val_loss: 0.6886 - val_accuracy: 0.7500\n",
            "Epoch 54/150\n",
            "1/1 [==============================] - 0s 21ms/step - loss: 0.6886 - accuracy: 0.7500 - val_loss: 0.6885 - val_accuracy: 0.7500\n",
            "Epoch 55/150\n",
            "1/1 [==============================] - 0s 19ms/step - loss: 0.6885 - accuracy: 0.7500 - val_loss: 0.6883 - val_accuracy: 0.7500\n",
            "Epoch 56/150\n",
            "1/1 [==============================] - 0s 19ms/step - loss: 0.6883 - accuracy: 0.7500 - val_loss: 0.6881 - val_accuracy: 0.7500\n",
            "Epoch 57/150\n",
            "1/1 [==============================] - 0s 19ms/step - loss: 0.6881 - accuracy: 0.7500 - val_loss: 0.6880 - val_accuracy: 0.7500\n",
            "Epoch 58/150\n",
            "1/1 [==============================] - 0s 20ms/step - loss: 0.6880 - accuracy: 0.7500 - val_loss: 0.6878 - val_accuracy: 0.7500\n",
            "Epoch 59/150\n",
            "1/1 [==============================] - 0s 18ms/step - loss: 0.6878 - accuracy: 0.7500 - val_loss: 0.6876 - val_accuracy: 0.7500\n",
            "Epoch 60/150\n",
            "1/1 [==============================] - 0s 18ms/step - loss: 0.6876 - accuracy: 0.7500 - val_loss: 0.6874 - val_accuracy: 0.7500\n",
            "Epoch 61/150\n",
            "1/1 [==============================] - 0s 19ms/step - loss: 0.6874 - accuracy: 0.7500 - val_loss: 0.6873 - val_accuracy: 0.7500\n",
            "Epoch 62/150\n",
            "1/1 [==============================] - 0s 19ms/step - loss: 0.6873 - accuracy: 0.7500 - val_loss: 0.6871 - val_accuracy: 0.7500\n",
            "Epoch 63/150\n",
            "1/1 [==============================] - ETA: 0s - loss: 0.6871 - accuracy: 0.7500\n",
            "Reached 100% accuracy, stopping training\n",
            "1/1 [==============================] - 0s 20ms/step - loss: 0.6871 - accuracy: 0.7500 - val_loss: 0.6869 - val_accuracy: 1.0000\n"
          ],
          "name": "stdout"
        }
      ]
    },
    {
      "cell_type": "code",
      "metadata": {
        "id": "H21mxVpsH5aB"
      },
      "source": [
        "# Note: because of very small train set, the train_set = validation_set = test_set\n",
        "\n",
        "# Training is stopped when validation accuracy is 100% because\n",
        "# there are only 4 test cases and there can not be 'high variance'\n",
        "\n",
        "# stats of the model are given below"
      ],
      "execution_count": null,
      "outputs": []
    },
    {
      "cell_type": "code",
      "metadata": {
        "id": "mNm_bixCM_Iz",
        "outputId": "6009e572-8812-405d-8082-20df9d7de309",
        "colab": {
          "base_uri": "https://localhost:8080/",
          "height": 85
        }
      },
      "source": [
        "print(f\"Loss : {model.evaluate(x,y)[0]}\")\n",
        "print(f\"Accuracy % : {model.evaluate(x,y)[1]*100}\")"
      ],
      "execution_count": 13,
      "outputs": [
        {
          "output_type": "stream",
          "text": [
            "1/1 [==============================] - 0s 2ms/step - loss: 0.6869 - accuracy: 1.0000\n",
            "Loss : 0.6869449019432068\n",
            "1/1 [==============================] - 0s 2ms/step - loss: 0.6869 - accuracy: 1.0000\n",
            "Accuracy % : 100.0\n"
          ],
          "name": "stdout"
        }
      ]
    },
    {
      "cell_type": "code",
      "metadata": {
        "id": "TxlnT9QnNJ3I",
        "outputId": "e48c7b81-ed9c-47b8-e947-facd3cbd0bb2",
        "colab": {
          "base_uri": "https://localhost:8080/",
          "height": 85
        }
      },
      "source": [
        "predictions = model.predict_classes(x)\n",
        "predictions = predictions.reshape(1,-1)[0]\n",
        "\n",
        "# confusion matrix\n",
        "print('Confusion Matrix:\\n', confusion_matrix(y, predictions), sep='')\n",
        "print(f'Accuracy Score: {accuracy_score(y, predictions)*100}%')"
      ],
      "execution_count": 18,
      "outputs": [
        {
          "output_type": "stream",
          "text": [
            "Confusion Matrix:\n",
            "[[2 0]\n",
            " [0 2]]\n",
            "Accuracy Score: 100.0%\n"
          ],
          "name": "stdout"
        }
      ]
    },
    {
      "cell_type": "code",
      "metadata": {
        "id": "99LgCv8tOZsq",
        "outputId": "4f550a8b-0777-4d82-9006-c77648f39122",
        "colab": {
          "base_uri": "https://localhost:8080/",
          "height": 85
        }
      },
      "source": [
        "# verifying outputs manually\n",
        "for i in range(len(x)):\n",
        "    print(f'{x[i]}\\t\\t{predictions[i]}')"
      ],
      "execution_count": 24,
      "outputs": [
        {
          "output_type": "stream",
          "text": [
            "[0 0]\t\t0\n",
            "[0 1]\t\t1\n",
            "[1 0]\t\t1\n",
            "[1 1]\t\t0\n"
          ],
          "name": "stdout"
        }
      ]
    },
    {
      "cell_type": "code",
      "metadata": {
        "id": "_37HWjeJNU7d",
        "outputId": "1b6727ad-ed2e-4cc7-b855-946a16edc468",
        "colab": {
          "base_uri": "https://localhost:8080/",
          "height": 295
        }
      },
      "source": [
        "# train and validation accuracy trends\n",
        "train_accuracy = history.history['accuracy']\n",
        "val_accuracy = history.history['val_accuracy']\n",
        "epochs = [i for i in range(0, 63)]\n",
        "plt.plot(epochs, train_accuracy, 'r', label='Train Accuracy')\n",
        "plt.plot(epochs, val_accuracy, 'g', label='Validation Accuracy')\n",
        "plt.title('Train vs Validation Accuracy Trends')\n",
        "plt.xlabel('Epochs')\n",
        "plt.ylabel('Accuracy')\n",
        "plt.legend()\n",
        "plt.show()"
      ],
      "execution_count": 22,
      "outputs": [
        {
          "output_type": "display_data",
          "data": {
            "image/png": "[encoded data removed]",
            "text/plain": [
              "<Figure size 432x288 with 1 Axes>"
            ]
          },
          "metadata": {
            "tags": [],
            "needs_background": "light"
          }
        }
      ]
    },
    {
      "cell_type": "code",
      "metadata": {
        "id": "_HVtfvtnN2sH"
      },
      "source": [
        "# saving the model\n",
        "model.save('./model.h5', save_format='h5')"
      ],
      "execution_count": 26,
      "outputs": []
    },
    {
      "cell_type": "code",
      "metadata": {
        "id": "6aSUOVwMQ1PU",
        "outputId": "59623d95-fdc9-4a01-d713-e392d8aff914",
        "colab": {
          "base_uri": "https://localhost:8080/",
          "height": 255
        }
      },
      "source": [
        "# verifying saved model\n",
        "model = tf.keras.models.load_model('./model.h5')\n",
        "model.summary()\n"
      ],
      "execution_count": 28,
      "outputs": [
        {
          "output_type": "stream",
          "text": [
            "Model: \"sequential_1\"\n",
            "_________________________________________________________________\n",
            "Layer (type)                 Output Shape              Param #   \n",
            "=================================================================\n",
            "dense_3 (Dense)              (None, 2)                 6         \n",
            "_________________________________________________________________\n",
            "dense_4 (Dense)              (None, 4)                 12        \n",
            "_________________________________________________________________\n",
            "dense_5 (Dense)              (None, 1)                 5         \n",
            "=================================================================\n",
            "Total params: 23\n",
            "Trainable params: 23\n",
            "Non-trainable params: 0\n",
            "_________________________________________________________________\n"
          ],
          "name": "stdout"
        }
      ]
    },
    {
      "cell_type": "code",
      "metadata": {
        "id": "1w4iUglvQ4dY"
      },
      "source": [
        ""
      ],
      "execution_count": null,
      "outputs": []
    }
  ]
}