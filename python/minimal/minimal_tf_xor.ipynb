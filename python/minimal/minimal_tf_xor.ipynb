{
  "nbformat": 4,
  "nbformat_minor": 0,
  "metadata": {
    "colab": {
      "name": "Untitled",
      "provenance": [],
      "collapsed_sections": []
    },
    "kernelspec": {
      "name": "python3",
      "display_name": "Python 3"
    }
  },
  "cells": [
    {
      "cell_type": "markdown",
      "metadata": {
        "id": "BC8z87BB7xmW"
      },
      "source": [
        "## Minimal TF model for XOR\n",
        "\n",
        "Let's try to build the minimal model for a XOR function, using TensorFlow."
      ]
    },
    {
      "cell_type": "code",
      "metadata": {
        "id": "h2UAGfGVofl3"
      },
      "source": [
        "import tensorflow as tf\n",
        "import numpy as np"
      ],
      "execution_count": 1,
      "outputs": []
    },
    {
      "cell_type": "markdown",
      "metadata": {
        "id": "MJiboLGJoiTR"
      },
      "source": [
        "Let's define the train data. We use the entire XOR table, with no validation. We will overfit, but it should not be a problem here."
      ]
    },
    {
      "cell_type": "code",
      "metadata": {
        "id": "o6I6xB2GohTN"
      },
      "source": [
        "x = np.array([[0, 0], [0, 1], [1, 0], [1, 1]])\n",
        "y = np.array([    0,      1,      1,      0 ])"
      ],
      "execution_count": 2,
      "outputs": []
    },
    {
      "cell_type": "markdown",
      "metadata": {
        "id": "VUEQ_d88tWC0"
      },
      "source": [
        "Since the examples are not linearly separable, we cannot use just one neuron. Hence, let's create an intermediate layer of the minimum 2 neurons needed to add a nonlinearity"
      ]
    },
    {
      "cell_type": "code",
      "metadata": {
        "id": "rpUcj5_8tUPv",
        "outputId": "eddcc1e6-9b78-4c06-bdae-49aa4a05885f",
        "colab": {
          "base_uri": "https://localhost:8080/",
          "height": 221
        }
      },
      "source": [
        "model = tf.keras.Sequential([\n",
        "  tf.keras.layers.Dense(2, input_shape=(2,), activation=\"relu\", use_bias=False),\n",
        "  tf.keras.layers.Dense(1, activation='sigmoid')\n",
        "])\n",
        "model.summary()"
      ],
      "execution_count": 3,
      "outputs": [
        {
          "output_type": "stream",
          "text": [
            "Model: \"sequential\"\n",
            "_________________________________________________________________\n",
            "Layer (type)                 Output Shape              Param #   \n",
            "=================================================================\n",
            "dense (Dense)                (None, 2)                 4         \n",
            "_________________________________________________________________\n",
            "dense_1 (Dense)              (None, 1)                 3         \n",
            "=================================================================\n",
            "Total params: 7\n",
            "Trainable params: 7\n",
            "Non-trainable params: 0\n",
            "_________________________________________________________________\n"
          ],
          "name": "stdout"
        }
      ]
    },
    {
      "cell_type": "markdown",
      "metadata": {
        "id": "dvzm0q8kx5ty"
      },
      "source": [
        "Compile the model. As lost function we use cross entropy and we are computing the accuracy metric."
      ]
    },
    {
      "cell_type": "code",
      "metadata": {
        "id": "sEpGa-eut6kU"
      },
      "source": [
        "model.compile(loss='binary_crossentropy', metrics=['accuracy'])"
      ],
      "execution_count": 4,
      "outputs": []
    },
    {
      "cell_type": "markdown",
      "metadata": {
        "id": "DMG0KSy7yFX5"
      },
      "source": [
        "Fit the model on the data (train the model)"
      ]
    },
    {
      "cell_type": "code",
      "metadata": {
        "id": "LX-wTPk4uLES",
        "outputId": "4726d042-ef34-4fe1-b932-6a1366aeca32",
        "colab": {
          "base_uri": "https://localhost:8080/",
          "height": 1000
        }
      },
      "source": [
        "model.fit(x, y, epochs=200)"
      ],
      "execution_count": 5,
      "outputs": [
        {
          "output_type": "stream",
          "text": [
            "Epoch 1/200\n",
            "1/1 [==============================] - 0s 2ms/step - loss: 0.6170 - accuracy: 0.7500\n",
            "Epoch 2/200\n",
            "1/1 [==============================] - 0s 2ms/step - loss: 0.6163 - accuracy: 0.7500\n",
            "Epoch 3/200\n",
            "1/1 [==============================] - 0s 1ms/step - loss: 0.6158 - accuracy: 0.7500\n",
            "Epoch 4/200\n",
            "1/1 [==============================] - 0s 3ms/step - loss: 0.6153 - accuracy: 0.7500\n",
            "Epoch 5/200\n",
            "1/1 [==============================] - 0s 3ms/step - loss: 0.6150 - accuracy: 0.7500\n",
            "Epoch 6/200\n",
            "1/1 [==============================] - 0s 1ms/step - loss: 0.6146 - accuracy: 0.7500\n",
            "Epoch 7/200\n",
            "1/1 [==============================] - 0s 3ms/step - loss: 0.6143 - accuracy: 0.7500\n",
            "Epoch 8/200\n",
            "1/1 [==============================] - 0s 2ms/step - loss: 0.6140 - accuracy: 0.7500\n",
            "Epoch 9/200\n",
            "1/1 [==============================] - 0s 2ms/step - loss: 0.6137 - accuracy: 0.7500\n",
            "Epoch 10/200\n",
            "1/1 [==============================] - 0s 2ms/step - loss: 0.6135 - accuracy: 0.7500\n",
            "Epoch 11/200\n",
            "1/1 [==============================] - 0s 2ms/step - loss: 0.6132 - accuracy: 0.7500\n",
            "Epoch 12/200\n",
            "1/1 [==============================] - 0s 2ms/step - loss: 0.6129 - accuracy: 0.7500\n",
            "Epoch 13/200\n",
            "1/1 [==============================] - 0s 2ms/step - loss: 0.6127 - accuracy: 0.7500\n",
            "Epoch 14/200\n",
            "1/1 [==============================] - 0s 2ms/step - loss: 0.6124 - accuracy: 0.7500\n",
            "Epoch 15/200\n",
            "1/1 [==============================] - 0s 2ms/step - loss: 0.6122 - accuracy: 0.7500\n",
            "Epoch 16/200\n",
            "1/1 [==============================] - 0s 2ms/step - loss: 0.6120 - accuracy: 0.7500\n",
            "Epoch 17/200\n",
            "1/1 [==============================] - 0s 2ms/step - loss: 0.6117 - accuracy: 0.7500\n",
            "Epoch 18/200\n",
            "1/1 [==============================] - 0s 2ms/step - loss: 0.6115 - accuracy: 0.7500\n",
            "Epoch 19/200\n",
            "1/1 [==============================] - 0s 2ms/step - loss: 0.6113 - accuracy: 0.7500\n",
            "Epoch 20/200\n",
            "1/1 [==============================] - 0s 2ms/step - loss: 0.6111 - accuracy: 0.7500\n",
            "Epoch 21/200\n",
            "1/1 [==============================] - 0s 2ms/step - loss: 0.6108 - accuracy: 0.7500\n",
            "Epoch 22/200\n",
            "1/1 [==============================] - 0s 2ms/step - loss: 0.6106 - accuracy: 0.7500\n",
            "Epoch 23/200\n",
            "1/1 [==============================] - 0s 2ms/step - loss: 0.6104 - accuracy: 0.7500\n",
            "Epoch 24/200\n",
            "1/1 [==============================] - 0s 2ms/step - loss: 0.6102 - accuracy: 0.7500\n",
            "Epoch 25/200\n",
            "1/1 [==============================] - 0s 2ms/step - loss: 0.6100 - accuracy: 0.7500\n",
            "Epoch 26/200\n",
            "1/1 [==============================] - 0s 2ms/step - loss: 0.6097 - accuracy: 0.7500\n",
            "Epoch 27/200\n",
            "1/1 [==============================] - 0s 2ms/step - loss: 0.6095 - accuracy: 0.7500\n",
            "Epoch 28/200\n",
            "1/1 [==============================] - 0s 2ms/step - loss: 0.6093 - accuracy: 0.7500\n",
            "Epoch 29/200\n",
            "1/1 [==============================] - 0s 2ms/step - loss: 0.6091 - accuracy: 0.7500\n",
            "Epoch 30/200\n",
            "1/1 [==============================] - 0s 3ms/step - loss: 0.6089 - accuracy: 0.7500\n",
            "Epoch 31/200\n",
            "1/1 [==============================] - 0s 2ms/step - loss: 0.6087 - accuracy: 0.7500\n",
            "Epoch 32/200\n",
            "1/1 [==============================] - 0s 2ms/step - loss: 0.6085 - accuracy: 0.7500\n",
            "Epoch 33/200\n",
            "1/1 [==============================] - 0s 2ms/step - loss: 0.6083 - accuracy: 0.7500\n",
            "Epoch 34/200\n",
            "1/1 [==============================] - 0s 1ms/step - loss: 0.6081 - accuracy: 0.7500\n",
            "Epoch 35/200\n",
            "1/1 [==============================] - 0s 2ms/step - loss: 0.6079 - accuracy: 0.7500\n",
            "Epoch 36/200\n",
            "1/1 [==============================] - 0s 2ms/step - loss: 0.6077 - accuracy: 0.7500\n",
            "Epoch 37/200\n",
            "1/1 [==============================] - 0s 2ms/step - loss: 0.6075 - accuracy: 0.7500\n",
            "Epoch 38/200\n",
            "1/1 [==============================] - 0s 2ms/step - loss: 0.6073 - accuracy: 0.7500\n",
            "Epoch 39/200\n",
            "1/1 [==============================] - 0s 2ms/step - loss: 0.6071 - accuracy: 0.7500\n",
            "Epoch 40/200\n",
            "1/1 [==============================] - 0s 2ms/step - loss: 0.6069 - accuracy: 0.7500\n",
            "Epoch 41/200\n",
            "1/1 [==============================] - 0s 2ms/step - loss: 0.6067 - accuracy: 0.7500\n",
            "Epoch 42/200\n",
            "1/1 [==============================] - 0s 2ms/step - loss: 0.6065 - accuracy: 0.7500\n",
            "Epoch 43/200\n",
            "1/1 [==============================] - 0s 2ms/step - loss: 0.6063 - accuracy: 0.7500\n",
            "Epoch 44/200\n",
            "1/1 [==============================] - 0s 3ms/step - loss: 0.6061 - accuracy: 0.7500\n",
            "Epoch 45/200\n",
            "1/1 [==============================] - 0s 3ms/step - loss: 0.6059 - accuracy: 0.7500\n",
            "Epoch 46/200\n",
            "1/1 [==============================] - 0s 2ms/step - loss: 0.6057 - accuracy: 0.7500\n",
            "Epoch 47/200\n",
            "1/1 [==============================] - 0s 2ms/step - loss: 0.6055 - accuracy: 0.7500\n",
            "Epoch 48/200\n",
            "1/1 [==============================] - 0s 3ms/step - loss: 0.6053 - accuracy: 0.7500\n",
            "Epoch 49/200\n",
            "1/1 [==============================] - 0s 2ms/step - loss: 0.6051 - accuracy: 0.7500\n",
            "Epoch 50/200\n",
            "1/1 [==============================] - 0s 2ms/step - loss: 0.6049 - accuracy: 0.7500\n",
            "Epoch 51/200\n",
            "1/1 [==============================] - 0s 3ms/step - loss: 0.6047 - accuracy: 0.7500\n",
            "Epoch 52/200\n",
            "1/1 [==============================] - 0s 5ms/step - loss: 0.6045 - accuracy: 0.7500\n",
            "Epoch 53/200\n",
            "1/1 [==============================] - 0s 3ms/step - loss: 0.6043 - accuracy: 0.7500\n",
            "Epoch 54/200\n",
            "1/1 [==============================] - 0s 3ms/step - loss: 0.6041 - accuracy: 0.7500\n",
            "Epoch 55/200\n",
            "1/1 [==============================] - 0s 2ms/step - loss: 0.6039 - accuracy: 0.7500\n",
            "Epoch 56/200\n",
            "1/1 [==============================] - 0s 4ms/step - loss: 0.6037 - accuracy: 0.7500\n",
            "Epoch 57/200\n",
            "1/1 [==============================] - 0s 3ms/step - loss: 0.6035 - accuracy: 0.7500\n",
            "Epoch 58/200\n",
            "1/1 [==============================] - 0s 3ms/step - loss: 0.6033 - accuracy: 0.7500\n",
            "Epoch 59/200\n",
            "1/1 [==============================] - 0s 2ms/step - loss: 0.6031 - accuracy: 0.7500\n",
            "Epoch 60/200\n",
            "1/1 [==============================] - 0s 3ms/step - loss: 0.6029 - accuracy: 0.7500\n",
            "Epoch 61/200\n",
            "1/1 [==============================] - 0s 2ms/step - loss: 0.6027 - accuracy: 0.7500\n",
            "Epoch 62/200\n",
            "1/1 [==============================] - 0s 2ms/step - loss: 0.6025 - accuracy: 0.7500\n",
            "Epoch 63/200\n",
            "1/1 [==============================] - 0s 2ms/step - loss: 0.6024 - accuracy: 0.7500\n",
            "Epoch 64/200\n",
            "1/1 [==============================] - 0s 3ms/step - loss: 0.6022 - accuracy: 0.7500\n",
            "Epoch 65/200\n",
            "1/1 [==============================] - 0s 2ms/step - loss: 0.6020 - accuracy: 0.7500\n",
            "Epoch 66/200\n",
            "1/1 [==============================] - 0s 3ms/step - loss: 0.6018 - accuracy: 0.7500\n",
            "Epoch 67/200\n",
            "1/1 [==============================] - 0s 2ms/step - loss: 0.6016 - accuracy: 0.7500\n",
            "Epoch 68/200\n",
            "1/1 [==============================] - 0s 3ms/step - loss: 0.6014 - accuracy: 0.7500\n",
            "Epoch 69/200\n",
            "1/1 [==============================] - 0s 2ms/step - loss: 0.6012 - accuracy: 0.7500\n",
            "Epoch 70/200\n",
            "1/1 [==============================] - 0s 3ms/step - loss: 0.6010 - accuracy: 0.7500\n",
            "Epoch 71/200\n",
            "1/1 [==============================] - 0s 2ms/step - loss: 0.6008 - accuracy: 0.7500\n",
            "Epoch 72/200\n",
            "1/1 [==============================] - 0s 2ms/step - loss: 0.6006 - accuracy: 0.7500\n",
            "Epoch 73/200\n",
            "1/1 [==============================] - 0s 3ms/step - loss: 0.6005 - accuracy: 0.7500\n",
            "Epoch 74/200\n",
            "1/1 [==============================] - 0s 2ms/step - loss: 0.6003 - accuracy: 0.7500\n",
            "Epoch 75/200\n",
            "1/1 [==============================] - 0s 2ms/step - loss: 0.6001 - accuracy: 0.7500\n",
            "Epoch 76/200\n",
            "1/1 [==============================] - 0s 2ms/step - loss: 0.5999 - accuracy: 0.7500\n",
            "Epoch 77/200\n",
            "1/1 [==============================] - 0s 5ms/step - loss: 0.5997 - accuracy: 0.7500\n",
            "Epoch 78/200\n",
            "1/1 [==============================] - 0s 2ms/step - loss: 0.5995 - accuracy: 0.7500\n",
            "Epoch 79/200\n",
            "1/1 [==============================] - 0s 3ms/step - loss: 0.5993 - accuracy: 0.7500\n",
            "Epoch 80/200\n",
            "1/1 [==============================] - 0s 2ms/step - loss: 0.5991 - accuracy: 0.7500\n",
            "Epoch 81/200\n",
            "1/1 [==============================] - 0s 2ms/step - loss: 0.5990 - accuracy: 0.7500\n",
            "Epoch 82/200\n",
            "1/1 [==============================] - 0s 5ms/step - loss: 0.5988 - accuracy: 0.7500\n",
            "Epoch 83/200\n",
            "1/1 [==============================] - 0s 3ms/step - loss: 0.5986 - accuracy: 0.7500\n",
            "Epoch 84/200\n",
            "1/1 [==============================] - 0s 2ms/step - loss: 0.5984 - accuracy: 0.7500\n",
            "Epoch 85/200\n",
            "1/1 [==============================] - 0s 3ms/step - loss: 0.5982 - accuracy: 0.7500\n",
            "Epoch 86/200\n",
            "1/1 [==============================] - 0s 3ms/step - loss: 0.5980 - accuracy: 0.7500\n",
            "Epoch 87/200\n",
            "1/1 [==============================] - 0s 5ms/step - loss: 0.5978 - accuracy: 0.7500\n",
            "Epoch 88/200\n",
            "1/1 [==============================] - 0s 2ms/step - loss: 0.5977 - accuracy: 0.7500\n",
            "Epoch 89/200\n",
            "1/1 [==============================] - 0s 2ms/step - loss: 0.5975 - accuracy: 0.7500\n",
            "Epoch 90/200\n",
            "1/1 [==============================] - 0s 2ms/step - loss: 0.5973 - accuracy: 0.7500\n",
            "Epoch 91/200\n",
            "1/1 [==============================] - 0s 2ms/step - loss: 0.5971 - accuracy: 0.7500\n",
            "Epoch 92/200\n",
            "1/1 [==============================] - 0s 2ms/step - loss: 0.5969 - accuracy: 0.7500\n",
            "Epoch 93/200\n",
            "1/1 [==============================] - 0s 2ms/step - loss: 0.5968 - accuracy: 0.7500\n",
            "Epoch 94/200\n",
            "1/1 [==============================] - 0s 3ms/step - loss: 0.5966 - accuracy: 0.7500\n",
            "Epoch 95/200\n",
            "1/1 [==============================] - 0s 2ms/step - loss: 0.5964 - accuracy: 0.7500\n",
            "Epoch 96/200\n",
            "1/1 [==============================] - 0s 2ms/step - loss: 0.5962 - accuracy: 0.7500\n",
            "Epoch 97/200\n",
            "1/1 [==============================] - 0s 3ms/step - loss: 0.5960 - accuracy: 0.7500\n",
            "Epoch 98/200\n",
            "1/1 [==============================] - 0s 2ms/step - loss: 0.5958 - accuracy: 0.7500\n",
            "Epoch 99/200\n",
            "1/1 [==============================] - 0s 2ms/step - loss: 0.5957 - accuracy: 0.7500\n",
            "Epoch 100/200\n",
            "1/1 [==============================] - 0s 2ms/step - loss: 0.5955 - accuracy: 0.7500\n",
            "Epoch 101/200\n",
            "1/1 [==============================] - 0s 2ms/step - loss: 0.5953 - accuracy: 0.7500\n",
            "Epoch 102/200\n",
            "1/1 [==============================] - 0s 2ms/step - loss: 0.5951 - accuracy: 0.7500\n",
            "Epoch 103/200\n",
            "1/1 [==============================] - 0s 2ms/step - loss: 0.5949 - accuracy: 0.7500\n",
            "Epoch 104/200\n",
            "1/1 [==============================] - 0s 2ms/step - loss: 0.5948 - accuracy: 0.7500\n",
            "Epoch 105/200\n",
            "1/1 [==============================] - 0s 3ms/step - loss: 0.5946 - accuracy: 0.7500\n",
            "Epoch 106/200\n",
            "1/1 [==============================] - 0s 4ms/step - loss: 0.5944 - accuracy: 0.7500\n",
            "Epoch 107/200\n",
            "1/1 [==============================] - 0s 3ms/step - loss: 0.5942 - accuracy: 0.7500\n",
            "Epoch 108/200\n",
            "1/1 [==============================] - 0s 3ms/step - loss: 0.5940 - accuracy: 0.7500\n",
            "Epoch 109/200\n",
            "1/1 [==============================] - 0s 2ms/step - loss: 0.5939 - accuracy: 0.7500\n",
            "Epoch 110/200\n",
            "1/1 [==============================] - 0s 2ms/step - loss: 0.5937 - accuracy: 0.7500\n",
            "Epoch 111/200\n",
            "1/1 [==============================] - 0s 3ms/step - loss: 0.5935 - accuracy: 0.7500\n",
            "Epoch 112/200\n",
            "1/1 [==============================] - 0s 2ms/step - loss: 0.5933 - accuracy: 0.7500\n",
            "Epoch 113/200\n",
            "1/1 [==============================] - 0s 3ms/step - loss: 0.5932 - accuracy: 0.7500\n",
            "Epoch 114/200\n",
            "1/1 [==============================] - 0s 2ms/step - loss: 0.5930 - accuracy: 0.7500\n",
            "Epoch 115/200\n",
            "1/1 [==============================] - 0s 2ms/step - loss: 0.5928 - accuracy: 0.7500\n",
            "Epoch 116/200\n",
            "1/1 [==============================] - 0s 3ms/step - loss: 0.5926 - accuracy: 0.7500\n",
            "Epoch 117/200\n",
            "1/1 [==============================] - 0s 3ms/step - loss: 0.5924 - accuracy: 0.7500\n",
            "Epoch 118/200\n",
            "1/1 [==============================] - 0s 2ms/step - loss: 0.5923 - accuracy: 0.7500\n",
            "Epoch 119/200\n",
            "1/1 [==============================] - 0s 3ms/step - loss: 0.5921 - accuracy: 0.7500\n",
            "Epoch 120/200\n",
            "1/1 [==============================] - 0s 2ms/step - loss: 0.5919 - accuracy: 0.7500\n",
            "Epoch 121/200\n",
            "1/1 [==============================] - 0s 2ms/step - loss: 0.5917 - accuracy: 0.7500\n",
            "Epoch 122/200\n",
            "1/1 [==============================] - 0s 5ms/step - loss: 0.5916 - accuracy: 0.7500\n",
            "Epoch 123/200\n",
            "1/1 [==============================] - 0s 2ms/step - loss: 0.5914 - accuracy: 0.7500\n",
            "Epoch 124/200\n",
            "1/1 [==============================] - 0s 6ms/step - loss: 0.5912 - accuracy: 0.7500\n",
            "Epoch 125/200\n",
            "1/1 [==============================] - 0s 3ms/step - loss: 0.5910 - accuracy: 0.7500\n",
            "Epoch 126/200\n",
            "1/1 [==============================] - 0s 2ms/step - loss: 0.5909 - accuracy: 0.7500\n",
            "Epoch 127/200\n",
            "1/1 [==============================] - 0s 3ms/step - loss: 0.5907 - accuracy: 0.7500\n",
            "Epoch 128/200\n",
            "1/1 [==============================] - 0s 3ms/step - loss: 0.5905 - accuracy: 0.7500\n",
            "Epoch 129/200\n",
            "1/1 [==============================] - 0s 2ms/step - loss: 0.5903 - accuracy: 0.7500\n",
            "Epoch 130/200\n",
            "1/1 [==============================] - 0s 3ms/step - loss: 0.5902 - accuracy: 0.7500\n",
            "Epoch 131/200\n",
            "1/1 [==============================] - 0s 2ms/step - loss: 0.5900 - accuracy: 0.7500\n",
            "Epoch 132/200\n",
            "1/1 [==============================] - 0s 2ms/step - loss: 0.5898 - accuracy: 0.7500\n",
            "Epoch 133/200\n",
            "1/1 [==============================] - 0s 3ms/step - loss: 0.5896 - accuracy: 0.7500\n",
            "Epoch 134/200\n",
            "1/1 [==============================] - 0s 7ms/step - loss: 0.5895 - accuracy: 0.7500\n",
            "Epoch 135/200\n",
            "1/1 [==============================] - 0s 2ms/step - loss: 0.5893 - accuracy: 0.7500\n",
            "Epoch 136/200\n",
            "1/1 [==============================] - 0s 2ms/step - loss: 0.5891 - accuracy: 0.7500\n",
            "Epoch 137/200\n",
            "1/1 [==============================] - 0s 3ms/step - loss: 0.5889 - accuracy: 0.7500\n",
            "Epoch 138/200\n",
            "1/1 [==============================] - 0s 2ms/step - loss: 0.5888 - accuracy: 0.7500\n",
            "Epoch 139/200\n",
            "1/1 [==============================] - 0s 2ms/step - loss: 0.5886 - accuracy: 0.7500\n",
            "Epoch 140/200\n",
            "1/1 [==============================] - 0s 4ms/step - loss: 0.5884 - accuracy: 0.7500\n",
            "Epoch 141/200\n",
            "1/1 [==============================] - 0s 2ms/step - loss: 0.5882 - accuracy: 0.7500\n",
            "Epoch 142/200\n",
            "1/1 [==============================] - 0s 5ms/step - loss: 0.5881 - accuracy: 0.7500\n",
            "Epoch 143/200\n",
            "1/1 [==============================] - 0s 2ms/step - loss: 0.5879 - accuracy: 0.7500\n",
            "Epoch 144/200\n",
            "1/1 [==============================] - 0s 3ms/step - loss: 0.5877 - accuracy: 0.7500\n",
            "Epoch 145/200\n",
            "1/1 [==============================] - 0s 2ms/step - loss: 0.5875 - accuracy: 0.7500\n",
            "Epoch 146/200\n",
            "1/1 [==============================] - 0s 2ms/step - loss: 0.5874 - accuracy: 0.7500\n",
            "Epoch 147/200\n",
            "1/1 [==============================] - 0s 3ms/step - loss: 0.5872 - accuracy: 0.7500\n",
            "Epoch 148/200\n",
            "1/1 [==============================] - 0s 2ms/step - loss: 0.5870 - accuracy: 0.7500\n",
            "Epoch 149/200\n",
            "1/1 [==============================] - 0s 3ms/step - loss: 0.5868 - accuracy: 0.7500\n",
            "Epoch 150/200\n",
            "1/1 [==============================] - 0s 3ms/step - loss: 0.5867 - accuracy: 0.7500\n",
            "Epoch 151/200\n",
            "1/1 [==============================] - 0s 3ms/step - loss: 0.5865 - accuracy: 0.7500\n",
            "Epoch 152/200\n",
            "1/1 [==============================] - 0s 2ms/step - loss: 0.5863 - accuracy: 0.7500\n",
            "Epoch 153/200\n",
            "1/1 [==============================] - 0s 3ms/step - loss: 0.5862 - accuracy: 0.7500\n",
            "Epoch 154/200\n",
            "1/1 [==============================] - 0s 2ms/step - loss: 0.5860 - accuracy: 0.7500\n",
            "Epoch 155/200\n",
            "1/1 [==============================] - 0s 3ms/step - loss: 0.5858 - accuracy: 0.7500\n",
            "Epoch 156/200\n",
            "1/1 [==============================] - 0s 2ms/step - loss: 0.5856 - accuracy: 0.7500\n",
            "Epoch 157/200\n",
            "1/1 [==============================] - 0s 2ms/step - loss: 0.5855 - accuracy: 0.7500\n",
            "Epoch 158/200\n",
            "1/1 [==============================] - 0s 2ms/step - loss: 0.5853 - accuracy: 0.7500\n",
            "Epoch 159/200\n",
            "1/1 [==============================] - 0s 2ms/step - loss: 0.5851 - accuracy: 0.7500\n",
            "Epoch 160/200\n",
            "1/1 [==============================] - 0s 2ms/step - loss: 0.5849 - accuracy: 0.7500\n",
            "Epoch 161/200\n",
            "1/1 [==============================] - 0s 2ms/step - loss: 0.5848 - accuracy: 0.7500\n",
            "Epoch 162/200\n",
            "1/1 [==============================] - 0s 3ms/step - loss: 0.5846 - accuracy: 0.7500\n",
            "Epoch 163/200\n",
            "1/1 [==============================] - 0s 3ms/step - loss: 0.5844 - accuracy: 0.7500\n",
            "Epoch 164/200\n",
            "1/1 [==============================] - 0s 2ms/step - loss: 0.5842 - accuracy: 0.7500\n",
            "Epoch 165/200\n",
            "1/1 [==============================] - 0s 2ms/step - loss: 0.5841 - accuracy: 0.7500\n",
            "Epoch 166/200\n",
            "1/1 [==============================] - 0s 3ms/step - loss: 0.5839 - accuracy: 0.7500\n",
            "Epoch 167/200\n",
            "1/1 [==============================] - 0s 2ms/step - loss: 0.5837 - accuracy: 0.7500\n",
            "Epoch 168/200\n",
            "1/1 [==============================] - 0s 3ms/step - loss: 0.5835 - accuracy: 0.7500\n",
            "Epoch 169/200\n",
            "1/1 [==============================] - 0s 8ms/step - loss: 0.5834 - accuracy: 0.7500\n",
            "Epoch 170/200\n",
            "1/1 [==============================] - 0s 10ms/step - loss: 0.5832 - accuracy: 0.7500\n",
            "Epoch 171/200\n",
            "1/1 [==============================] - 0s 3ms/step - loss: 0.5830 - accuracy: 0.7500\n",
            "Epoch 172/200\n",
            "1/1 [==============================] - 0s 4ms/step - loss: 0.5828 - accuracy: 0.7500\n",
            "Epoch 173/200\n",
            "1/1 [==============================] - 0s 3ms/step - loss: 0.5827 - accuracy: 0.7500\n",
            "Epoch 174/200\n",
            "1/1 [==============================] - 0s 3ms/step - loss: 0.5825 - accuracy: 0.7500\n",
            "Epoch 175/200\n",
            "1/1 [==============================] - 0s 2ms/step - loss: 0.5823 - accuracy: 0.7500\n",
            "Epoch 176/200\n",
            "1/1 [==============================] - 0s 4ms/step - loss: 0.5821 - accuracy: 0.7500\n",
            "Epoch 177/200\n",
            "1/1 [==============================] - 0s 7ms/step - loss: 0.5820 - accuracy: 0.7500\n",
            "Epoch 178/200\n",
            "1/1 [==============================] - 0s 2ms/step - loss: 0.5818 - accuracy: 0.7500\n",
            "Epoch 179/200\n",
            "1/1 [==============================] - 0s 3ms/step - loss: 0.5816 - accuracy: 0.7500\n",
            "Epoch 180/200\n",
            "1/1 [==============================] - 0s 3ms/step - loss: 0.5814 - accuracy: 0.7500\n",
            "Epoch 181/200\n",
            "1/1 [==============================] - 0s 3ms/step - loss: 0.5812 - accuracy: 0.7500\n",
            "Epoch 182/200\n",
            "1/1 [==============================] - 0s 3ms/step - loss: 0.5811 - accuracy: 0.7500\n",
            "Epoch 183/200\n",
            "1/1 [==============================] - 0s 2ms/step - loss: 0.5809 - accuracy: 0.7500\n",
            "Epoch 184/200\n",
            "1/1 [==============================] - 0s 2ms/step - loss: 0.5807 - accuracy: 0.7500\n",
            "Epoch 185/200\n",
            "1/1 [==============================] - 0s 2ms/step - loss: 0.5805 - accuracy: 0.7500\n",
            "Epoch 186/200\n",
            "1/1 [==============================] - 0s 3ms/step - loss: 0.5804 - accuracy: 0.7500\n",
            "Epoch 187/200\n",
            "1/1 [==============================] - 0s 2ms/step - loss: 0.5802 - accuracy: 0.7500\n",
            "Epoch 188/200\n",
            "1/1 [==============================] - 0s 2ms/step - loss: 0.5800 - accuracy: 0.7500\n",
            "Epoch 189/200\n",
            "1/1 [==============================] - 0s 3ms/step - loss: 0.5798 - accuracy: 0.7500\n",
            "Epoch 190/200\n",
            "1/1 [==============================] - 0s 2ms/step - loss: 0.5797 - accuracy: 0.7500\n",
            "Epoch 191/200\n",
            "1/1 [==============================] - 0s 2ms/step - loss: 0.5795 - accuracy: 0.7500\n",
            "Epoch 192/200\n",
            "1/1 [==============================] - 0s 7ms/step - loss: 0.5793 - accuracy: 0.7500\n",
            "Epoch 193/200\n",
            "1/1 [==============================] - 0s 3ms/step - loss: 0.5791 - accuracy: 0.7500\n",
            "Epoch 194/200\n",
            "1/1 [==============================] - 0s 2ms/step - loss: 0.5789 - accuracy: 0.7500\n",
            "Epoch 195/200\n",
            "1/1 [==============================] - 0s 2ms/step - loss: 0.5788 - accuracy: 0.7500\n",
            "Epoch 196/200\n",
            "1/1 [==============================] - 0s 3ms/step - loss: 0.5786 - accuracy: 0.7500\n",
            "Epoch 197/200\n",
            "1/1 [==============================] - 0s 9ms/step - loss: 0.5784 - accuracy: 0.7500\n",
            "Epoch 198/200\n",
            "1/1 [==============================] - 0s 7ms/step - loss: 0.5782 - accuracy: 0.7500\n",
            "Epoch 199/200\n",
            "1/1 [==============================] - 0s 5ms/step - loss: 0.5781 - accuracy: 0.7500\n",
            "Epoch 200/200\n",
            "1/1 [==============================] - 0s 3ms/step - loss: 0.5779 - accuracy: 0.7500\n"
          ],
          "name": "stdout"
        },
        {
          "output_type": "execute_result",
          "data": {
            "text/plain": [
              "<tensorflow.python.keras.callbacks.History at 0x7fd0206dce10>"
            ]
          },
          "metadata": {
            "tags": []
          },
          "execution_count": 5
        }
      ]
    },
    {
      "cell_type": "markdown",
      "metadata": {
        "id": "-98_gyvUyISv"
      },
      "source": [
        "Take the predictions of the model:"
      ]
    },
    {
      "cell_type": "code",
      "metadata": {
        "id": "UQVdqK3bunT9",
        "outputId": "759c45ce-c976-4d37-9a03-ee32506877b0",
        "colab": {
          "base_uri": "https://localhost:8080/",
          "height": 102
        }
      },
      "source": [
        "model(x)"
      ],
      "execution_count": 6,
      "outputs": [
        {
          "output_type": "execute_result",
          "data": {
            "text/plain": [
              "<tf.Tensor: shape=(4, 1), dtype=float32, numpy=\n",
              "array([[0.47052434],\n",
              "       [0.6932425 ],\n",
              "       [0.5442231 ],\n",
              "       [0.39172065]], dtype=float32)>"
            ]
          },
          "metadata": {
            "tags": []
          },
          "execution_count": 6
        }
      ]
    },
    {
      "cell_type": "markdown",
      "metadata": {
        "id": "2UfL9aWvyKtt"
      },
      "source": [
        "Assume that everything above 0.5 is True, convert to output of XOR gate."
      ]
    },
    {
      "cell_type": "code",
      "metadata": {
        "id": "Hl19hPS_vUTI",
        "outputId": "4dc2e100-43c5-450a-a456-b7a71ed19796",
        "colab": {
          "base_uri": "https://localhost:8080/",
          "height": 85
        }
      },
      "source": [
        "(model.predict(x) > 0.5)"
      ],
      "execution_count": 7,
      "outputs": [
        {
          "output_type": "execute_result",
          "data": {
            "text/plain": [
              "array([[False],\n",
              "       [ True],\n",
              "       [ True],\n",
              "       [False]])"
            ]
          },
          "metadata": {
            "tags": []
          },
          "execution_count": 7
        }
      ]
    },
    {
      "cell_type": "markdown",
      "metadata": {
        "id": "rKUw9ecj75y_"
      },
      "source": [
        "That's all. Thank you"
      ]
    }
  ]
}
